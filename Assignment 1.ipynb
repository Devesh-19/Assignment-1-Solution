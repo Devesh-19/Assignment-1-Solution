{
 "cells": [
  {
   "cell_type": "markdown",
   "metadata": {},
   "source": [
    "# Assignment"
   ]
  },
  {
   "cell_type": "code",
   "execution_count": 1,
   "metadata": {},
   "outputs": [
    {
     "name": "stdout",
     "output_type": "stream",
     "text": [
      "5\n",
      "3\n"
     ]
    }
   ],
   "source": [
    "#Ques. 1\n",
    "\n",
    "x=3\n",
    "y=5\n",
    "x,y=y,x\n",
    "print(x)\n",
    "print(y)"
   ]
  },
  {
   "cell_type": "code",
   "execution_count": 6,
   "metadata": {},
   "outputs": [
    {
     "name": "stdout",
     "output_type": "stream",
     "text": [
      "-34\n",
      "Number is even\n"
     ]
    }
   ],
   "source": [
    "#Ques. 2\n",
    "n = int(input())\n",
    "if (n % 2) == 0:\n",
    "    print(\"Number is even\")\n",
    "else:\n",
    "    print(\"Number is odd\")"
   ]
  },
  {
   "cell_type": "code",
   "execution_count": 10,
   "metadata": {},
   "outputs": [
    {
     "name": "stdout",
     "output_type": "stream",
     "text": [
      "14\n",
      "3.7416573867739413\n"
     ]
    }
   ],
   "source": [
    "#Ques. 3\n",
    "x=int(input())\n",
    "print(x ** (1/2))"
   ]
  },
  {
   "cell_type": "code",
   "execution_count": 13,
   "metadata": {},
   "outputs": [
    {
     "name": "stdout",
     "output_type": "stream",
     "text": [
      "24\n",
      "1 2 3 4 5 6 7 8 9 10 11 12 13 14 15 16 17 18 19 20 21 22 23 24 \n",
      "24 23 22 21 20 19 18 17 16 15 14 13 12 11 10 9 8 7 6 5 4 3 2 1 "
     ]
    }
   ],
   "source": [
    "#Ques. 4\n",
    "n=int(input())\n",
    "for i in range(1,n+1):\n",
    "    print(i, end = \" \")\n",
    "print()\n",
    "for i in range(n,0,-1):\n",
    "    print(i, end = \" \")"
   ]
  },
  {
   "cell_type": "code",
   "execution_count": 17,
   "metadata": {},
   "outputs": [
    {
     "name": "stdout",
     "output_type": "stream",
     "text": [
      "6\n",
      "904.3199999999999\n"
     ]
    }
   ],
   "source": [
    "# Ques. 5\n",
    "r=int(input())\n",
    "print((4/3)*3.14*(r**3))"
   ]
  },
  {
   "cell_type": "code",
   "execution_count": 14,
   "metadata": {
    "scrolled": true
   },
   "outputs": [
    {
     "name": "stdout",
     "output_type": "stream",
     "text": [
      "Even numbers are :\n",
      "2 4 6 8 10 12 14 16 18 20 22 24 26 28 30 32 34 36 38 40 42 44 46 48 50 52 54 56 58 60 62 64 66 68 70 72 74 76 78 80 82 84 86 88 90 92 94 96 98 \n",
      "Odd numbers are :\n",
      "1 3 5 7 9 11 13 15 17 19 21 23 25 27 29 31 33 35 37 39 41 43 45 47 49 51 53 55 57 59 61 63 65 67 69 71 73 75 77 79 81 83 85 87 89 91 93 95 97 99 "
     ]
    }
   ],
   "source": [
    "#Ques. 6\n",
    "\n",
    "print(\"Even numbers are :\")\n",
    "for i in range(1, 100):\n",
    "    if(i%2 == 0):\n",
    "        print(i, end = \" \")\n",
    "print()\n",
    "print(\"Odd numbers are :\")\n",
    "for i in range(100):\n",
    "    if(i%2 == 1):\n",
    "        print(i, end = \" \")"
   ]
  },
  {
   "cell_type": "code",
   "execution_count": null,
   "metadata": {},
   "outputs": [],
   "source": []
  },
  {
   "cell_type": "code",
   "execution_count": 29,
   "metadata": {},
   "outputs": [
    {
     "name": "stdout",
     "output_type": "stream",
     "text": [
      "6.1\n",
      "3.7\n",
      "0\n",
      "0.0\n",
      "-0.6065573770491804\n"
     ]
    }
   ],
   "source": [
    "#Ques. 7\n",
    "import math\n",
    "import cmath\n",
    "a=float(input())\n",
    "b=float(input())\n",
    "c=float(input())\n",
    "temp=b**2-(4*a*c)\n",
    "x_1=((math.sqrt(temp)-b)/(2*a))\n",
    "x_2=((-math.sqrt(temp)-b)/(2*a))\n",
    "print(x_1)\n",
    "print(x_2)"
   ]
  },
  {
   "cell_type": "code",
   "execution_count": 7,
   "metadata": {},
   "outputs": [
    {
     "name": "stdout",
     "output_type": "stream",
     "text": [
      "97653\n",
      "5\n"
     ]
    }
   ],
   "source": [
    "#Ques. 8\n",
    "x = int(input())\n",
    "c = 0\n",
    "while x>0:\n",
    "    x = x//10\n",
    "    c = c+1\n",
    "print(c)"
   ]
  },
  {
   "cell_type": "code",
   "execution_count": null,
   "metadata": {},
   "outputs": [],
   "source": []
  },
  {
   "cell_type": "code",
   "execution_count": 53,
   "metadata": {},
   "outputs": [
    {
     "name": "stdout",
     "output_type": "stream",
     "text": [
      "Enter a number: 7\n",
      "True\n"
     ]
    }
   ],
   "source": [
    "# Ques. 9\n",
    "num = int(input(\"Enter a number: \"))  \n",
    "  \n",
    "if num > 1:\n",
    "    for i in range(2,num):  \n",
    "        if (num % i) == 0:  \n",
    "            print(\"False\")  \n",
    "            break  \n",
    "    else:  \n",
    "        print(\"True\")  \n",
    "         \n",
    "else:  \n",
    "    print(\"False\") "
   ]
  },
  {
   "cell_type": "code",
   "execution_count": 54,
   "metadata": {},
   "outputs": [
    {
     "name": "stdout",
     "output_type": "stream",
     "text": [
      "24\n",
      "143\n"
     ]
    }
   ],
   "source": [
    "# Ques. 10\n",
    "n=int(input())\n",
    "s = 0\n",
    "for i in range(1,n+1):\n",
    "    if i % 3 == 0 or i % 5 == 0:\n",
    "        s += i\n",
    "        \n",
    "print(s)"
   ]
  },
  {
   "cell_type": "code",
   "execution_count": 8,
   "metadata": {},
   "outputs": [
    {
     "name": "stdout",
     "output_type": "stream",
     "text": [
      "9\n",
      "Enter 1 to compute the sum and 2 to compute the product of numbers from 1 to n: 2\n",
      "362880\n"
     ]
    }
   ],
   "source": [
    "#Ques. 11\n",
    "n = int(input())\n",
    "ch= input(\"Enter 1 to compute the sum and 2 to compute the product of numbers from 1 to n: \")\n",
    "s=0\n",
    "p=1\n",
    "if ch == '1':\n",
    "    for i in range(n+1):\n",
    "        s += i\n",
    "    print(s)\n",
    "elif ch == '2':\n",
    "    for i in range(1, n+1):\n",
    "        p *= i\n",
    "    print(p)\n",
    "else:\n",
    "    print(\"wrong input\")"
   ]
  },
  {
   "cell_type": "code",
   "execution_count": 12,
   "metadata": {},
   "outputs": [
    {
     "name": "stdout",
     "output_type": "stream",
     "text": [
      "233168\n"
     ]
    }
   ],
   "source": [
    "# Ques. 12\n",
    "s = 0\n",
    "for i in range(1000):\n",
    "    if i % 3 == 0 or i % 5 == 0:\n",
    "        s += i\n",
    "        \n",
    "print(s)"
   ]
  },
  {
   "cell_type": "code",
   "execution_count": 55,
   "metadata": {},
   "outputs": [
    {
     "name": "stdout",
     "output_type": "stream",
     "text": [
      "2002 2009 2016 2023 2037 2044 2051 2058 2072 2079 2086 2093 2107 2114 2121 2128 2142 2149 2156 2163 2177 2184 2191 2198 2212 2219 2226 2233 2247 2254 2261 2268 2282 2289 2296 2303 2317 2324 2331 2338 2352 2359 2366 2373 2387 2394 2401 2408 2422 2429 2436 2443 2457 2464 2471 2478 2492 2499 2506 2513 2527 2534 2541 2548 2562 2569 2576 2583 2597 2604 2611 2618 2632 2639 2646 2653 2667 2674 2681 2688 2702 2709 2716 2723 2737 2744 2751 2758 2772 2779 2786 2793 2807 2814 2821 2828 2842 2849 2856 2863 2877 2884 2891 2898 2912 2919 2926 2933 2947 2954 2961 2968 2982 2989 2996 3003 3017 3024 3031 3038 3052 3059 3066 3073 3087 3094 3101 3108 3122 3129 3136 3143 3157 3164 3171 3178 3192 3199 "
     ]
    }
   ],
   "source": [
    "# Ques. 13\n",
    "for i in range(2000,3201):\n",
    "    if i % 7 == 0:\n",
    "        if i % 5 == 0:\n",
    "            pass\n",
    "        else:\n",
    "            print(i, end = \" \")"
   ]
  },
  {
   "cell_type": "code",
   "execution_count": 19,
   "metadata": {},
   "outputs": [
    {
     "name": "stdout",
     "output_type": "stream",
     "text": [
      "25164150\n"
     ]
    }
   ],
   "source": [
    "# Ques. 14\n",
    "sqs=0\n",
    "s=0\n",
    "for i in range(1, 101):\n",
    "    a=i**2\n",
    "    sqs+=a\n",
    "    s+=i\n",
    "    \n",
    "diff = (s**2) - sqs\n",
    "print(diff)"
   ]
  },
  {
   "cell_type": "code",
   "execution_count": null,
   "metadata": {},
   "outputs": [],
   "source": []
  },
  {
   "cell_type": "code",
   "execution_count": 16,
   "metadata": {},
   "outputs": [
    {
     "name": "stdout",
     "output_type": "stream",
     "text": [
      "2\n",
      "345\n",
      "356\n",
      "23\n",
      "53\n",
      "2\n",
      "0\n",
      "0\n",
      "-1\n",
      "dfa\n",
      "Total: 780\n",
      "Count: 9\n",
      "Average: 86.66666666666667\n"
     ]
    }
   ],
   "source": [
    "# Ques. 15\n",
    "s=0\n",
    "c=0\n",
    "n=0\n",
    "while n != 'stop':\n",
    "    try:\n",
    "        n=int(input())\n",
    "        s += n\n",
    "        c += 1\n",
    "    except ValueError:\n",
    "        break\n",
    "print(\"Total: {}\".format(s))\n",
    "print(\"Count: {}\".format(c))\n",
    "try:\n",
    "    avg=s/c\n",
    "except ZeroDivisionError:\n",
    "    avg=0\n",
    "print(\"Average: {}\".format(avg))"
   ]
  },
  {
   "cell_type": "code",
   "execution_count": 19,
   "metadata": {},
   "outputs": [
    {
     "name": "stdout",
     "output_type": "stream",
     "text": [
      "24\n",
      "2\n",
      "3\n",
      "5\n",
      "7\n",
      "11\n",
      "13\n",
      "17\n",
      "19\n",
      "23\n"
     ]
    }
   ],
   "source": [
    "# Ques. 16\n",
    "num=int(input())\n",
    "for num in range(1,num + 1):\n",
    "   if num > 1:\n",
    "        for i in range(2,num):\n",
    "            if (num % i) == 0:\n",
    "                break\n",
    "        else:\n",
    "            print(num)"
   ]
  },
  {
   "cell_type": "code",
   "execution_count": 21,
   "metadata": {},
   "outputs": [
    {
     "name": "stdout",
     "output_type": "stream",
     "text": [
      "5\n",
      "120\n"
     ]
    }
   ],
   "source": [
    "#Ques. 17\n",
    "fact = 1\n",
    "n = int(input())\n",
    "for i in range(1, n+1):\n",
    "    fact *= i\n",
    "print(fact)"
   ]
  },
  {
   "cell_type": "code",
   "execution_count": 58,
   "metadata": {},
   "outputs": [
    {
     "name": "stdout",
     "output_type": "stream",
     "text": [
      "9\n",
      "0 1 1 2 3 5 8 13 21 "
     ]
    }
   ],
   "source": [
    "# Ques. 18\n",
    "num = int(input())\n",
    "p = 1\n",
    "n = 0\n",
    "for i in range(num):\n",
    "    print(n, end = ' ')\n",
    "    p, n= n, n+p"
   ]
  },
  {
   "cell_type": "code",
   "execution_count": 2,
   "metadata": {},
   "outputs": [
    {
     "name": "stdout",
     "output_type": "stream",
     "text": [
      "1\n",
      "10\n",
      "LCM of 1, 10 is 10\n"
     ]
    }
   ],
   "source": [
    "# Ques. 19\n",
    "n = int(input())\n",
    "m = int(input())\n",
    "for i in range(2, min(n, m)):\n",
    "    if n % i ==0 and m % i == 0:\n",
    "        print(\"LCM of {}, {} is {}\".format(n, m, i))\n",
    "        break\n",
    "else:\n",
    "    print(\"LCM of {}, {} is {}\".format(n, m, n*m))"
   ]
  },
  {
   "cell_type": "code",
   "execution_count": 6,
   "metadata": {},
   "outputs": [
    {
     "name": "stdout",
     "output_type": "stream",
     "text": [
      "72\n",
      "1 2 3 4 6 8 9 12 18 24 36 72 "
     ]
    }
   ],
   "source": [
    "# Ques. 20\n",
    "n = int(input())\n",
    "for i in range(1, n+1):\n",
    "    if n % i == 0:\n",
    "        print(i, end = ' ')"
   ]
  },
  {
   "cell_type": "markdown",
   "metadata": {},
   "source": [
    "###### Ques. 21"
   ]
  },
  {
   "cell_type": "code",
   "execution_count": 2,
   "metadata": {},
   "outputs": [
    {
     "name": "stdout",
     "output_type": "stream",
     "text": [
      "* \n",
      "* * \n",
      "* * * \n",
      "* * * * \n",
      "* * * * * \n",
      "* * * * * * \n"
     ]
    }
   ],
   "source": [
    "# Part 1st\n",
    "for i in range(1, 7):\n",
    "    print(\"* \"*i)"
   ]
  },
  {
   "cell_type": "code",
   "execution_count": 59,
   "metadata": {},
   "outputs": [
    {
     "name": "stdout",
     "output_type": "stream",
     "text": [
      "* * * * * * * \n",
      "* * * * * * \n",
      "* * * * * \n",
      "* * * * \n",
      "* * * \n",
      "* * \n",
      "* \n"
     ]
    }
   ],
   "source": [
    "#Part 2\n",
    "for i in range(7, 0, -1):\n",
    "    print(\"* \"*i)"
   ]
  },
  {
   "cell_type": "code",
   "execution_count": 12,
   "metadata": {},
   "outputs": [
    {
     "name": "stdout",
     "output_type": "stream",
     "text": [
      "1 \n",
      "2 2 \n",
      "3 3 3 \n",
      "4 4 4 4 \n",
      "5 5 5 5 5 \n",
      "6 6 6 6 6 6 \n"
     ]
    }
   ],
   "source": [
    "#Part 3\n",
    "for i in range(1, 7):\n",
    "    for j in range(i):\n",
    "        print(i, end = \" \")\n",
    "    print()"
   ]
  },
  {
   "cell_type": "code",
   "execution_count": 35,
   "metadata": {},
   "outputs": [
    {
     "name": "stdout",
     "output_type": "stream",
     "text": [
      "     * \n",
      "    * * \n",
      "   * * * \n",
      "  * * * * \n",
      " * * * * * \n",
      "* * * * * * \n"
     ]
    }
   ],
   "source": [
    "#Part 4\n",
    "n=7\n",
    "for i in range(1, n):\n",
    "    print(\" \" * (n-i-1) + \"* \" * (i))"
   ]
  },
  {
   "cell_type": "code",
   "execution_count": 62,
   "metadata": {},
   "outputs": [
    {
     "name": "stdout",
     "output_type": "stream",
     "text": [
      "1 \n",
      "2 3 \n",
      "4 5 6 \n",
      "7 8 9 10 \n"
     ]
    }
   ],
   "source": [
    "#Part 5\n",
    "c=1\n",
    "for i in range(1, 5):\n",
    "    for j in range(i):\n",
    "        print(c, end = \" \")\n",
    "        c += 1\n",
    "    print()"
   ]
  },
  {
   "cell_type": "code",
   "execution_count": 40,
   "metadata": {},
   "outputs": [
    {
     "name": "stdout",
     "output_type": "stream",
     "text": [
      "A \n",
      "B C \n",
      "D E F \n",
      "G H I J \n",
      "K L M N O \n",
      "P Q R S T U \n"
     ]
    }
   ],
   "source": [
    "#Part 6\n",
    "c = 65\n",
    "for i in range(1, 7):\n",
    "    for j in range(i):\n",
    "        print(chr(c), end = \" \")\n",
    "        c += 1\n",
    "    print()"
   ]
  },
  {
   "cell_type": "code",
   "execution_count": 51,
   "metadata": {},
   "outputs": [
    {
     "name": "stdout",
     "output_type": "stream",
     "text": [
      "9\n",
      "11106\n"
     ]
    }
   ],
   "source": [
    "#Ques. 22\n",
    "a = int(input())\n",
    "s = 0\n",
    "sum = 0\n",
    "for i in range(4):\n",
    "    s = s + ((10 ** i) * a)\n",
    "    sum += s\n",
    "print(sum)"
   ]
  },
  {
   "cell_type": "code",
   "execution_count": null,
   "metadata": {},
   "outputs": [],
   "source": []
  }
 ],
 "metadata": {
  "kernelspec": {
   "display_name": "Python 3",
   "language": "python",
   "name": "python3"
  },
  "language_info": {
   "codemirror_mode": {
    "name": "ipython",
    "version": 3
   },
   "file_extension": ".py",
   "mimetype": "text/x-python",
   "name": "python",
   "nbconvert_exporter": "python",
   "pygments_lexer": "ipython3",
   "version": "3.5.2"
  }
 },
 "nbformat": 4,
 "nbformat_minor": 2
}
